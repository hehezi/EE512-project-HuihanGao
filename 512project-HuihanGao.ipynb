{
 "cells": [
  {
   "cell_type": "markdown",
   "metadata": {},
   "source": [
    "# EE512-project    \n",
    "## Class Project1   Options Pricing via Monte Carlo Estimation\n",
    "### Huihan Gao 4106-6450-95"
   ]
  },
  {
   "cell_type": "code",
   "execution_count": 16,
   "metadata": {},
   "outputs": [],
   "source": [
    "import numpy as np"
   ]
  },
  {
   "cell_type": "code",
   "execution_count": 19,
   "metadata": {},
   "outputs": [
    {
     "data": {
      "text/plain": [
       "array([100.        , 112.03519116, 117.08386181, 115.16665759,\n",
       "       120.38179388, 121.81690587, 131.58489621, 120.69568284,\n",
       "       113.18498096, 107.85409406, 103.32923402, 104.29263391,\n",
       "       110.3460653 , 108.72159982, 114.92527156, 117.15027797,\n",
       "       103.75426078, 104.59826158, 110.62144328, 107.38344642,\n",
       "       105.49999085, 107.50423122, 108.99496924, 105.92506883,\n",
       "       107.31630793, 115.519825  , 117.92385303, 108.51187474,\n",
       "       114.2236066 , 107.88431915, 113.45003441, 123.9415258 ,\n",
       "       129.25669867, 139.7126911 , 128.83447535, 131.48698049,\n",
       "       115.43937281, 114.78386426, 124.04630361, 131.9868442 ,\n",
       "       140.07415588, 134.68727772, 149.48430277, 159.92074731,\n",
       "       160.27138763, 166.7438757 , 155.21891416, 164.40235367,\n",
       "       165.84611092, 160.29072184, 162.61647996, 161.64247738,\n",
       "       161.05158411, 158.20950868, 155.38580919, 160.62789791,\n",
       "       160.53712435, 164.32116187, 156.55668242, 145.3006345 ,\n",
       "       149.06884918, 143.53986685, 148.91217121, 142.35500316,\n",
       "       133.23955427, 136.33260172, 138.91619982, 131.63504406,\n",
       "       132.17531487, 126.49738755, 121.30025062, 118.30776701,\n",
       "       128.39767314, 129.50985258, 118.84705648, 122.28864762,\n",
       "       123.15319854, 128.8474346 , 129.17845738, 123.88337985,\n",
       "       131.54098444, 128.07418266, 139.31164077, 135.31914064,\n",
       "       135.98390853, 136.52037392, 143.08423434, 138.34387367,\n",
       "       135.29567676, 131.4933253 , 115.83465534, 113.07993107,\n",
       "       117.12759712, 106.45181983, 115.77083226, 114.41554644,\n",
       "       111.20792451, 103.89898036, 108.49175442, 112.49344745,\n",
       "       115.98912154, 109.63524261, 117.50854815, 111.85758763,\n",
       "       108.40955436, 105.78798433, 106.3012994 , 100.1358591 ,\n",
       "       108.36133095, 114.87728175, 114.07714651, 111.87300079,\n",
       "       103.75233779, 105.99678936,  95.12377631,  98.59820813,\n",
       "        91.22100429,  90.34671138,  89.83169605,  94.92861203,\n",
       "        81.9793684 ,  77.90685934,  87.02668778,  87.11938943,\n",
       "        85.36800859,  79.87349326,  77.93683125,  66.40579384,\n",
       "        72.15184868,  69.34457545,  65.39654481,  60.56372113,\n",
       "        62.15507813,  63.20102825,  66.02320411,  66.47547352,\n",
       "        63.34814566,  60.24095136,  70.72210672,  68.67815997,\n",
       "        63.64824161,  62.2022402 ,  65.59396927,  63.70605411,\n",
       "        65.80809315,  63.70137506,  68.56785597,  65.02587525,\n",
       "        69.89197817,  71.90089809,  67.70585212,  63.43501809,\n",
       "        68.63957949,  71.13812924,  76.13255635,  79.48094694,\n",
       "        79.02714511,  74.97555596,  70.4157732 ,  67.36363756,\n",
       "        69.12126366,  72.99368744,  71.99315917,  73.54883332,\n",
       "        82.40840151,  76.19874436,  74.7025971 ,  68.97652832,\n",
       "        70.0181594 ,  71.39780566,  78.09383179,  75.81514332,\n",
       "        78.05215092,  76.75234156,  77.36842249,  75.74650145,\n",
       "        76.38512283,  72.30134047,  66.64137097,  64.53463961,\n",
       "        68.84802769,  69.42811792,  66.62255643,  64.97890763,\n",
       "        66.21069253,  60.69896509,  53.87821173,  54.19350672,\n",
       "        52.17210774,  55.20113273,  52.32416973,  49.44997216,\n",
       "        50.59863977,  50.39103369,  51.08448888,  54.16840274,\n",
       "        53.43251846,  58.39150656,  55.35789742,  50.48071587,\n",
       "        47.41987246,  51.74248032,  54.61794094,  58.70993003,\n",
       "        51.06357768,  51.23801727,  53.99382145,  51.85853733,\n",
       "        51.4635819 ,  52.49117575,  53.91325957,  53.32435899,\n",
       "        54.9841086 ,  56.55467055,  52.37374272,  55.143637  ,\n",
       "        57.16747472,  57.04410318,  57.43446229,  59.3065307 ,\n",
       "        63.66662817,  63.72834591,  65.22543063,  61.21708793,\n",
       "        58.8176012 ,  57.43013684,  58.81947052,  60.59527304,\n",
       "        60.37418497,  63.68703099,  63.13520271,  67.33955788,\n",
       "        70.08524431,  68.93184606,  74.66755174,  76.9456233 ,\n",
       "        76.61756683,  74.92108032,  67.84746211,  64.56455718,\n",
       "        61.59698334,  58.27365911,  61.76752307,  62.33770901,\n",
       "        67.53344711,  65.60000319,  66.87590546,  70.40510039,\n",
       "        68.73593068,  78.2470308 ,  72.34570683,  76.80096069,\n",
       "        78.66249832,  87.81863937,  90.94931034, 103.06750732,\n",
       "       103.24178864, 101.29747376,  95.44354682,  96.25231472,\n",
       "       103.33868383, 109.31062993, 102.76347255,  98.73453881,\n",
       "       104.66795975, 106.74504618, 104.3410453 , 100.5331213 ,\n",
       "        99.14577485,  92.14808084,  93.08528388,  93.26944681,\n",
       "        97.32600467,  97.84964287, 105.48540536,  94.53347132,\n",
       "        99.74920963,  98.50737782,  96.5141788 ,  93.19370164,\n",
       "        94.36761626,  91.41684737,  93.80613745,  95.95223213,\n",
       "       100.86469615,  95.15061709,  93.65082697,  94.99078142,\n",
       "        89.12072652,  91.24860944, 101.34307608, 105.24196713,\n",
       "        94.25495083,  97.70316489,  98.52556768, 102.21808767,\n",
       "       100.16705064,  93.90550895,  92.17677363,  88.34355132,\n",
       "        80.08308403,  89.20365427,  87.75910776,  89.98861525,\n",
       "        95.19102275,  98.68258055, 102.08431981, 103.97011752,\n",
       "        88.74772019,  81.81685586,  83.86549634,  83.07493023,\n",
       "        88.44640807,  91.69221973,  99.94097404,  93.42173588,\n",
       "        83.89936582,  78.01424287,  77.25834925,  82.42929936,\n",
       "        87.86088133,  82.16688336,  82.39110805,  81.7075248 ,\n",
       "        81.48667713,  81.06444047,  83.52904386,  87.09785393,\n",
       "        84.22050577,  85.14316155,  92.4179397 , 104.61465738,\n",
       "       107.22154766, 104.33916951,  97.88303241,  99.21847394,\n",
       "        95.18265294,  92.52101016,  90.02585525,  91.95245151,\n",
       "        92.36572475,  96.87326633,  97.57333541,  99.42355752,\n",
       "       102.11394203, 104.61697171, 104.6441469 , 106.04442749,\n",
       "       108.47096033, 102.7961649 , 101.72306763, 106.64843065,\n",
       "       111.96463144, 111.59295643, 109.97828075, 111.88684498,\n",
       "       107.91712765,  98.62591776,  94.87002206,  90.24006232,\n",
       "        89.70131429,  86.47215207,  86.1734416 ,  90.81007322,\n",
       "        91.06456582,  86.36970963,  85.82810624,  91.08139591,\n",
       "        86.50851215,  90.64760159,  84.72927608,  80.7759252 ,\n",
       "        82.14821292,  84.44894142,  82.07633032,  84.05733441,\n",
       "        85.17859198,  88.73084129,  94.03008862,  95.55005676,\n",
       "        89.80589847,  89.41736704,  83.84802174,  80.74607542,\n",
       "        77.34270834,  75.90207694,  78.67161214,  84.77183311,\n",
       "        88.92880124,  79.83139171,  75.35349961,  80.98480086,\n",
       "        81.62617114,  81.21086306,  79.89401   ,  81.6261881 ,\n",
       "        83.80354112,  79.94795694,  79.14982438,  71.32377983,\n",
       "        67.70398642,  68.554349  ,  66.59152844,  60.62810363,\n",
       "        58.90811587,  55.36059773,  52.55121977,  50.38529542,\n",
       "        47.89082573,  46.56241385,  47.47729381,  43.61413943,\n",
       "        46.40476049,  44.11947615,  44.91540832,  48.31061257,\n",
       "        50.34964721,  53.71282478,  56.04593098,  55.13079806,\n",
       "        57.16161601,  61.55340381,  61.81838648,  67.01309989,\n",
       "        65.44425734,  66.58614727,  65.23905112,  67.95655337,\n",
       "        66.32417971,  67.93266544,  71.10905122,  74.77038208,\n",
       "        75.1944347 ,  72.20685604,  71.53866179,  80.67443604,\n",
       "        82.70922286,  74.59972023,  78.9436279 ,  80.14632146,\n",
       "        76.22233186,  76.29851576,  79.80125852,  80.26962748,\n",
       "        74.80776321,  80.08473333,  72.82029471,  73.77749487,\n",
       "        80.74064518,  83.56191035,  85.27514423,  80.55675907,\n",
       "        75.63662476,  74.71762527,  74.73443732,  67.15676896,\n",
       "        71.78084006,  71.15058676,  73.34482848,  70.8745508 ,\n",
       "        75.20742264,  75.63675596,  82.15225936,  80.51629812,\n",
       "        78.36273215,  85.95880883,  91.9598961 ,  87.1829451 ,\n",
       "        89.89609402,  88.85600044,  87.39773524,  93.64320029,\n",
       "       105.3173668 , 108.01532249, 104.86066761, 102.56336147,\n",
       "       104.46349845, 107.38978491, 105.0195781 , 107.32261427,\n",
       "       119.80654441, 123.82870147, 111.60339413, 111.48267041,\n",
       "       109.95122476, 108.31760943, 109.58733213, 110.12608723,\n",
       "       101.83805544, 101.63538665, 111.28848845, 106.9270593 ,\n",
       "       111.45717504, 103.52399983,  99.04879286, 100.85640065,\n",
       "       108.10159473, 108.49387028, 111.78762047, 110.59316434])"
      ]
     },
     "execution_count": 19,
     "metadata": {},
     "output_type": "execute_result"
    }
   ],
   "source": [
    "def generate_GBM(S0,T,mu,sigma):\n",
    "    path = np.zeros(T)   #生成一个长度为T，每个数字都为0的数组\n",
    "    path[0] = S0  #初始值为100\n",
    "    dt = 1/365 \n",
    "    rand=np.random.normal(loc=0.0, scale=np.sqrt(dt), size=T)\n",
    "    for i in range(1,T):\n",
    "        path[i] =path[i-1] + mu * path[i-1] * dt  + sigma * path[i-1] * rand[i]   #另一种算法\n",
    "    return path\n",
    "#generate_GBM(100,500,0.05,0.2)\n"
   ]
  },
  {
   "cell_type": "markdown",
   "metadata": {},
   "source": [
    "# (a) payoff for the call option"
   ]
  },
  {
   "cell_type": "code",
   "execution_count": 20,
   "metadata": {},
   "outputs": [],
   "source": [
    "def payoff(path, K):\n",
    "    return max(path[-1] - K, 0)\n",
    "#max(path最后一位-K,0)"
   ]
  },
  {
   "cell_type": "markdown",
   "metadata": {},
   "source": [
    "# (b)expected value of European call options"
   ]
  },
  {
   "cell_type": "markdown",
   "metadata": {},
   "source": [
    "5 sets of GBM parameters:(0.0016,0.13),(0.0016,0.2),(0.0049,0.2),(0.01,0.4),(0.01,0.6) <br/>\n",
    "assumptions: constant asset volatilities, no discounting"
   ]
  },
  {
   "cell_type": "code",
   "execution_count": 28,
   "metadata": {},
   "outputs": [
    {
     "data": {
      "text/plain": [
       "array([14.65839508, 17.14742052, 21.72868139, 27.5378821 , 30.52087541])"
      ]
     },
     "execution_count": 28,
     "metadata": {},
     "output_type": "execute_result"
    }
   ],
   "source": [
    "S0 = 100   #初始值100\n",
    "K = 95\n",
    "T = 500    #500天\n",
    "N = 4000   #进行1000次模拟\n",
    "mus = [0.03,0.05,0.05,0.1,0.1]  #随便设置的mu和sigma\n",
    "sigmas = [0.2,0.2,0.3,0.3,0.4]\n",
    "value = np.zeros([5,N])      \n",
    "path = np.zeros((5,N,T))  #path[5,1000,500],参数5对，模拟1000次，每次模拟得到一个长度为500的GBM path\n",
    "for j in range(5):\n",
    "    for i in range(N):\n",
    "        G1 = generate_GBM(S0,T,mus[j],sigmas[j])  \n",
    "        path[j,i] = G1\n",
    "        value[j,i] = payoff(path[j,i], K) #记载每次模拟的GBM path得到的payoff\n",
    "exp_value=np.mean(value,axis=1)  #取payoff的平均值，得到不贴现的expected value\n",
    "exp_value  #这一格运行时间有点长"
   ]
  },
  {
   "cell_type": "code",
   "execution_count": 39,
   "metadata": {},
   "outputs": [
    {
     "data": {
      "text/plain": [
       "array([101.81071882,  98.63947691, 101.37928863, 101.37928863,\n",
       "        92.10952933])"
      ]
     },
     "execution_count": 39,
     "metadata": {},
     "output_type": "execute_result"
    }
   ],
   "source": [
    "Es = S0*np.exp((mus-np.multiply(sigmas,sigmas))*T/365)\n",
    "Es  #置信区间相关，未完成"
   ]
  },
  {
   "cell_type": "markdown",
   "metadata": {},
   "source": [
    "# (c) the discounted expected payoff for the option"
   ]
  },
  {
   "cell_type": "code",
   "execution_count": 23,
   "metadata": {},
   "outputs": [
    {
     "data": {
      "text/plain": [
       "array([13.52962182, 15.67079639, 21.2239474 , 23.87471897, 27.94142124])"
      ]
     },
     "execution_count": 23,
     "metadata": {},
     "output_type": "execute_result"
    }
   ],
   "source": [
    "r = 0.05\n",
    "dis_values = exp_value / np.power(1+r/365,500)\n",
    "dis_values"
   ]
  },
  {
   "cell_type": "markdown",
   "metadata": {},
   "source": [
    "# (d) Asian call option"
   ]
  },
  {
   "cell_type": "code",
   "execution_count": 30,
   "metadata": {},
   "outputs": [
    {
     "data": {
      "text/plain": [
       "array([10.31231242, 11.51229996, 14.24380594, 17.344523  , 19.16286451])"
      ]
     },
     "execution_count": 30,
     "metadata": {},
     "output_type": "execute_result"
    }
   ],
   "source": [
    "path0 = path[:,:,::-50]\n",
    "S_ave = np.mean(path0,axis=2)\n",
    "value2 = np.zeros([5,N])\n",
    "for j in range(5):\n",
    "    for i in range(N):\n",
    "        value2[j,i] = payoff([S_ave[j,i]],K)\n",
    "exp_value2 = np.mean(value2,axis=1)\n",
    "exp_value2    #不计算折旧"
   ]
  },
  {
   "cell_type": "code",
   "execution_count": 31,
   "metadata": {},
   "outputs": [
    {
     "data": {
      "text/plain": [
       "array([14.65839508, 17.14742052, 21.72868139, 27.5378821 , 30.52087541])"
      ]
     },
     "execution_count": 31,
     "metadata": {},
     "output_type": "execute_result"
    }
   ],
   "source": [
    "exp_value  #(b)中得到的exp_value"
   ]
  },
  {
   "cell_type": "markdown",
   "metadata": {},
   "source": [
    "# (e) Jump-Diffusion"
   ]
  },
  {
   "cell_type": "code",
   "execution_count": 38,
   "metadata": {},
   "outputs": [],
   "source": [
    "def generate_GBM_jump(S0,T,mu,sigma,lamda):\n",
    "    path = np.zeros(T)   #生成一个长度为T，每个数字都为0的数组\n",
    "    path[0] = S0  #初始值为100\n",
    "    dt = 1/365 \n",
    "    rand=np.random.normal(loc=0.0, scale=np.sqrt(dt), size=T)\n",
    "    M = np.random.poisson(lam=(lamda*(dt)), size=T)\n",
    "    for i in range(1,T):\n",
    "        path[i] =path[i-1] + mu * path[i-1] * dt  + sigma * path[i-1] * rand[i] + M[i]   #另一种算法\n",
    "    return path"
   ]
  },
  {
   "cell_type": "code",
   "execution_count": 39,
   "metadata": {},
   "outputs": [
    {
     "data": {
      "text/plain": [
       "array([14.84249062, 16.98703395, 20.54926518, 26.82362456, 30.71223169])"
      ]
     },
     "execution_count": 39,
     "metadata": {},
     "output_type": "execute_result"
    }
   ],
   "source": [
    "S0 = 100   #初始值100\n",
    "K = 95\n",
    "T = 500    #500天\n",
    "N = 4000   #进行1000次模拟\n",
    "mus = [0.03,0.05,0.05,0.1,0.1]  #随便设置的mu和sigma\n",
    "sigmas = [0.2,0.2,0.3,0.3,0.4]\n",
    "lamda = 0.05\n",
    "value = np.zeros([5,N])      \n",
    "path = np.zeros((5,N,T))  #path[5,1000,500],参数5对，模拟1000次，每次模拟得到一个长度为500的GBM path\n",
    "for j in range(5):\n",
    "    for i in range(N):\n",
    "        G1 = generate_GBM_jump(S0,T,mus[j],sigmas[j],lamda)  \n",
    "        path[j,i] = G1\n",
    "        value[j,i] = payoff(path[j,i], K) #记载每次模拟的GBM path得到的payoff\n",
    "exp_value=np.mean(value,axis=1)  #取payoff的平均值，得到不贴现的expected value\n",
    "exp_value  #这一格运行时间有点长"
   ]
  },
  {
   "cell_type": "code",
   "execution_count": 40,
   "metadata": {},
   "outputs": [
    {
     "data": {
      "text/plain": [
       "[<matplotlib.lines.Line2D at 0x7fb1f25f38d0>]"
      ]
     },
     "execution_count": 40,
     "metadata": {},
     "output_type": "execute_result"
    },
    {
     "data": {
      "image/png": "[encoded data removed]",
      "text/plain": [
       "<Figure size 432x288 with 1 Axes>"
      ]
     },
     "metadata": {
      "needs_background": "light"
     },
     "output_type": "display_data"
    }
   ],
   "source": [
    "import matplotlib.pyplot as plt\n",
    "plt.plot(path[1,1])"
   ]
  },
  {
   "cell_type": "code",
   "execution_count": null,
   "metadata": {},
   "outputs": [],
   "source": []
  }
 ],
 "metadata": {
  "kernelspec": {
   "display_name": "Python 3",
   "language": "python",
   "name": "python3"
  },
  "language_info": {
   "codemirror_mode": {
    "name": "ipython",
    "version": 3
   },
   "file_extension": ".py",
   "mimetype": "text/x-python",
   "name": "python",
   "nbconvert_exporter": "python",
   "pygments_lexer": "ipython3",
   "version": "3.7.6"
  }
 },
 "nbformat": 4,
 "nbformat_minor": 4
}
