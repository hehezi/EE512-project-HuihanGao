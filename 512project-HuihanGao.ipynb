{
 "cells": [
  {
   "cell_type": "markdown",
   "metadata": {},
   "source": [
    "# EE512-project    \n",
    "## Class Project1   Options Pricing via Monte Carlo Estimation\n",
    "### Huihan Gao 4106-6450-95"
   ]
  },
  {
   "cell_type": "code",
   "execution_count": 139,
   "metadata": {},
   "outputs": [],
   "source": [
    "import numpy as np\n",
    "from scipy import stats"
   ]
  },
  {
   "cell_type": "markdown",
   "metadata": {},
   "source": [
    "# (a) payoff for the call option"
   ]
  },
  {
   "cell_type": "markdown",
   "metadata": {},
   "source": [
    "The function *payoff* takes a GBM path and a strike price K as input.The output is the payoff for the call option *max(ST-K,0)*."
   ]
  },
  {
   "cell_type": "code",
   "execution_count": 140,
   "metadata": {},
   "outputs": [],
   "source": [
    "def payoff(path, K):\n",
    "    return max(path[-1] - K, 0)"
   ]
  },
  {
   "cell_type": "markdown",
   "metadata": {},
   "source": [
    "# (b)expected value of European call options"
   ]
  },
  {
   "cell_type": "markdown",
   "metadata": {},
   "source": [
    "The function *generate_GBM* generates a GBM path following:<br/>\n",
    "St+1 = St + mu * St * dt + sigma * St * rand * sqrt(dt)<br/>\n",
    "rand~N(0,1)<br/>\n",
    "The input is initial value *S0*, length *T*, parameters *mu* and *sigma*.<br/>\n",
    "Assume *dt = 1/365*."
   ]
  },
  {
   "cell_type": "code",
   "execution_count": 141,
   "metadata": {},
   "outputs": [],
   "source": [
    "def generate_GBM(S0,T,mu,sigma):  \n",
    "    path = np.zeros(T)  #a GBM path with length T \n",
    "    path[0] = S0  \n",
    "    dt = 1/365 \n",
    "    rand = np.random.randn(T)  # T random values~N(0,1)\n",
    "    for i in range(1,T):\n",
    "        path[i] = path[i-1] + mu * path[i-1] * dt  + sigma * path[i-1] * rand[i] * np.sqrt(dt)  \n",
    "    return path\n",
    "#generate_GBM(100,500,0.05,0.2)"
   ]
  },
  {
   "cell_type": "markdown",
   "metadata": {},
   "source": [
    "Set 5 sets of GBM parameters as (0.03,0.2),(0.05,0.2),(0.05,0.3),(0.1,0.3),(0.1,0.4).Assume the strike price of the European call option is 95.<br/>\n",
    "Assumptions: constant asset volatilities, no discounting.<br/>\n",
    "For each set of parameters, generate 10000 GBM paths and calcalulate the payoff for the call option. The estimation of the expected value of the European option is mean of the 10000 payoffs. "
   ]
  },
  {
   "cell_type": "code",
   "execution_count": 143,
   "metadata": {},
   "outputs": [
    {
     "data": {
      "text/plain": [
       "array([14.23244502, 16.81912269, 20.30729286, 26.30765463, 30.89266284])"
      ]
     },
     "execution_count": 143,
     "metadata": {},
     "output_type": "execute_result"
    }
   ],
   "source": [
    "S0 = 100 \n",
    "K = 95\n",
    "T = 500    \n",
    "N = 10000   \n",
    "mus = [0.03,0.05,0.05,0.1,0.1]  \n",
    "sigmas = [0.2,0.2,0.3,0.3,0.4]\n",
    "value = np.zeros((5,N))    #store the payoffs     \n",
    "path = np.zeros((5,N,T))   #store the GBM paths generated and is used in (d)\n",
    "for j in range(5):\n",
    "    for i in range(N):\n",
    "        G1 = generate_GBM(S0,T,mus[j],sigmas[j])  #generate a GBM path\n",
    "        path[j,i] = G1\n",
    "        value[j,i] = payoff(path[j,i], K) #calculate the payoff\n",
    "exp_value = np.mean(value,axis=1)  #calculate the mean of payoffs \n",
    "exp_value #estimation of expected value of the 5 European options"
   ]
  },
  {
   "cell_type": "markdown",
   "metadata": {},
   "source": [
    "# confidence interval"
   ]
  },
  {
   "cell_type": "markdown",
   "metadata": {},
   "source": [
    "The function *interval* calculates the confidence interval based on observed data.The input is confidence level, mean and standard deviation of observed data and sample size.<br/>\n",
    "confidence interval = (mean - (Z * std / sqrt(N), mean + (Z * std / sqrt(N))"
   ]
  },
  {
   "cell_type": "code",
   "execution_count": 144,
   "metadata": {},
   "outputs": [],
   "source": [
    "def interval(confidence, mean, std, N):\n",
    "    alpha = 1 - confidence\n",
    "    z_score = scipy.stats.norm.isf(alpha / 2)  #calculate z-score\n",
    "    me = z_score * std / np.sqrt(N)\n",
    "    lower = mean - me\n",
    "    upper = mean + me\n",
    "    return [lower,upper]"
   ]
  },
  {
   "cell_type": "code",
   "execution_count": 145,
   "metadata": {},
   "outputs": [
    {
     "data": {
      "text/plain": [
       "array([[13.73973125, 14.72515878],\n",
       "       [16.28443654, 17.35380884],\n",
       "       [19.52671673, 21.087869  ],\n",
       "       [25.4137231 , 27.20158615],\n",
       "       [29.64111867, 32.14420701]])"
      ]
     },
     "execution_count": 145,
     "metadata": {},
     "output_type": "execute_result"
    }
   ],
   "source": [
    "confidence = 0.99  #set confidence level as 99%\n",
    "std = np.std(value,axis=1)   #calculate standard deviation\n",
    "intervals = np.zeros((5,2))\n",
    "for i in range(5):\n",
    "    intervals[i] = interval(confidence, exp_value[i], std[i], N)\n",
    "intervals  #confidence intervals"
   ]
  },
  {
   "cell_type": "markdown",
   "metadata": {},
   "source": [
    "# (c) discounted expected payoff for European call options"
   ]
  },
  {
   "cell_type": "markdown",
   "metadata": {},
   "source": [
    "Assume the discount is calculated by day. <br/>\n",
    "*discount rate = (r/365)^T* <br/>\n",
    "*discounted value = max(ST * discount rate-K, 0)*"
   ]
  },
  {
   "cell_type": "code",
   "execution_count": 147,
   "metadata": {},
   "outputs": [
    {
     "data": {
      "text/plain": [
       "array([0.96093016, 1.19652698, 1.41451462, 1.75105421, 1.84300443])"
      ]
     },
     "execution_count": 147,
     "metadata": {},
     "output_type": "execute_result"
    }
   ],
   "source": [
    "r = 0.05\n",
    "dis_value = np.zeros([5,N])\n",
    "dis_rate = np.power(1+r/365,500)  #discount rate for T days\n",
    "for j in range(5):\n",
    "    for i in range(T):\n",
    "        dis_value[j,i] = payoff(path[j,i]*dis_rate, K)\n",
    "dis_exp_value = np.mean(dis_value,axis=1)\n",
    "dis_exp_value"
   ]
  },
  {
   "cell_type": "markdown",
   "metadata": {},
   "source": [
    "# (d) expected value of Asian call options"
   ]
  },
  {
   "cell_type": "markdown",
   "metadata": {},
   "source": [
    "Use the GBM paths generated in (b). Change the method of calculating payoffs into *max(Avg(S50,S100,...,ST)-K,0)*.The other steps stay the same."
   ]
  },
  {
   "cell_type": "code",
   "execution_count": 148,
   "metadata": {},
   "outputs": [
    {
     "data": {
      "text/plain": [
       "array([ 9.87758439, 11.28647632, 13.35148656, 16.6492591 , 19.40695462])"
      ]
     },
     "execution_count": 148,
     "metadata": {},
     "output_type": "execute_result"
    }
   ],
   "source": [
    "path0 = path[:,:,::-50]    #(ST,S(T-50),...,S50)\n",
    "S_ave = np.mean(path0,axis=2)  #S_ave = average(S50,S100,...,ST)\n",
    "value2 = np.zeros([5,N])    #the payoffs\n",
    "for j in range(5):\n",
    "    for i in range(N):\n",
    "        value2[j,i] = payoff([S_ave[j,i]],K)\n",
    "exp_value2 = np.mean(value2,axis=1)\n",
    "exp_value2    #estimation of expected value of the 5 *Asian* options"
   ]
  },
  {
   "cell_type": "code",
   "execution_count": 149,
   "metadata": {},
   "outputs": [
    {
     "data": {
      "text/plain": [
       "array([14.23244502, 16.81912269, 20.30729286, 26.30765463, 30.89266284])"
      ]
     },
     "execution_count": 149,
     "metadata": {},
     "output_type": "execute_result"
    }
   ],
   "source": [
    "exp_value  #estimation of expected value of the 5 *European* options"
   ]
  },
  {
   "cell_type": "markdown",
   "metadata": {},
   "source": [
    "#### The value of Asian call option is less than the value of European call option with same parameters."
   ]
  },
  {
   "cell_type": "markdown",
   "metadata": {},
   "source": [
    "# (e) Jump-Diffusion"
   ]
  },
  {
   "cell_type": "markdown",
   "metadata": {},
   "source": [
    "The function *generate_GBM_jump* generates a GBM path with jump following:<br/>\n",
    "St+1 = St + mu * St * dt + sigma * St * rand * sqrt(dt) + M<br/>\n",
    "rand~N(0,1)<br/> \n",
    "M follows a Poisson distribution with the expectation of interval = lamda,which means the jump is expected to happen *lamda* times in a day and jump for 1 in price each time.  <br/>\n"
   ]
  },
  {
   "cell_type": "code",
   "execution_count": 150,
   "metadata": {},
   "outputs": [],
   "source": [
    "def generate_GBM_jump(S0,T,mu,sigma,lamda):\n",
    "    path = np.zeros(T)   \n",
    "    path[0] = S0  \n",
    "    dt = 1/365 \n",
    "    rand = np.random.randn(T)  # T random values~N(0,1)\n",
    "    M = np.random.poisson(lam=lamda, size=T)   #M follows a Poisson distribution\n",
    "    for i in range(1,T):\n",
    "        path[i] = path[i-1] + mu * path[i-1] * dt  + sigma * path[i-1] * rand[i] * np.sqrt(dt) + M[i]\n",
    "    return path"
   ]
  },
  {
   "cell_type": "code",
   "execution_count": 152,
   "metadata": {},
   "outputs": [
    {
     "data": {
      "text/plain": [
       "array([18.14483658, 20.47520179, 24.49989224, 31.08295396, 35.17724122])"
      ]
     },
     "execution_count": 152,
     "metadata": {},
     "output_type": "execute_result"
    }
   ],
   "source": [
    "lamda = 0.01\n",
    "value3 = np.zeros([5,N]) #values of payoffs     \n",
    "path2 = np.zeros((5,N,T)) \n",
    "for j in range(5):\n",
    "    for i in range(N):\n",
    "        G1 = generate_GBM_jump(S0, T, mus[j], sigmas[j], lamda)     #generate a GBM path with jump\n",
    "        path2[j,i] = G1\n",
    "        value3[j,i] = payoff(path2[j,i],K)\n",
    "exp_value3 = np.mean(value3,axis=1)  \n",
    "exp_value3   #the expected value"
   ]
  }
 ],
 "metadata": {
  "kernelspec": {
   "display_name": "Python 3",
   "language": "python",
   "name": "python3"
  },
  "language_info": {
   "codemirror_mode": {
    "name": "ipython",
    "version": 3
   },
   "file_extension": ".py",
   "mimetype": "text/x-python",
   "name": "python",
   "nbconvert_exporter": "python",
   "pygments_lexer": "ipython3",
   "version": "3.7.6"
  }
 },
 "nbformat": 4,
 "nbformat_minor": 4
}
